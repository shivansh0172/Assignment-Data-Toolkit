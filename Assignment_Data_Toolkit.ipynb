{
  "nbformat": 4,
  "nbformat_minor": 0,
  "metadata": {
    "colab": {
      "provenance": []
    },
    "kernelspec": {
      "name": "python3",
      "display_name": "Python 3"
    },
    "language_info": {
      "name": "python"
    }
  },
  "cells": [
    {
      "cell_type": "markdown",
      "source": [
        "Question 1 : What is the difference between multithreading and multiprocessing?"
      ],
      "metadata": {
        "id": "nEzFiht_2pSv"
      }
    },
    {
      "cell_type": "markdown",
      "source": [
        "Answer:\n",
        "\n",
        "- Multithreading: Involves running multiple threads within the same process. Threads share the same memory space, which allows for efficient communication but can lead to issues like the Global Interpreter Lock (GIL) in Python.\n",
        "\n",
        "- Multiprocessing: Involves running multiple processes, each with its own memory space. This avoids the GIL issue and allows true parallel execution, but communication between processes is slower and more complex.\n",
        "- ✅ Use multithreading for I/O-bound tasks and multiprocessing for CPU-bound tasks."
      ],
      "metadata": {
        "id": "5GIL66fo3Izy"
      }
    },
    {
      "cell_type": "markdown",
      "source": [
        "Question 2: What are the challenges associated with memory management in Python?"
      ],
      "metadata": {
        "id": "2nR88wQD3S0y"
      }
    },
    {
      "cell_type": "markdown",
      "source": [
        "Answer:\n",
        "\n",
        "- Garbage Collection Overhead: Python uses automatic garbage collection which can cause performance delays.\n",
        "- Circular References: Objects referencing each other may prevent timely memory release.\n",
        "- Memory Fragmentation: Repeated allocation/deallocation can fragment memory.\n",
        "- Large Object Retention: Variables may hold large data unintentionally.\n",
        "- Global Interpreter Lock (GIL): Restricts parallel memory usage in threads.\n",
        "- ✅ Using tools like gc, tracemalloc, and careful coding can help manage memory efficiently."
      ],
      "metadata": {
        "id": "tEB3UqJS3Qgc"
      }
    },
    {
      "cell_type": "markdown",
      "source": [
        "Question 3: Write a Python program that logs an error message to a log file when a division by zero exception occurs."
      ],
      "metadata": {
        "id": "c4qFAxQR3Oab"
      }
    },
    {
      "cell_type": "code",
      "source": [
        "import logging\n",
        "\n",
        "logging.basicConfig(filename=\"error.log\", level=logging.ERROR)\n",
        "\n",
        "try:\n",
        "    a = int(input(\"Enter numerator: \"))\n",
        "    b = int(input(\"Enter denominator: \"))\n",
        "    result = a / b\n",
        "    print(\"Result:\", result)\n",
        "except ZeroDivisionError as e:\n",
        "    logging.error(\"Division by zero occurred: %s\", e)\n",
        "    print(\"Error! Cannot divide by zero. Check error.log for details.\")\n"
      ],
      "metadata": {
        "colab": {
          "base_uri": "https://localhost:8080/"
        },
        "id": "DQRxdEAz3qe3",
        "outputId": "5ba0adee-0527-4bc8-fc68-2024e95d53e9"
      },
      "execution_count": 2,
      "outputs": [
        {
          "output_type": "stream",
          "name": "stdout",
          "text": [
            "Enter numerator: 5\n",
            "Enter denominator: 10\n",
            "Result: 0.5\n"
          ]
        }
      ]
    },
    {
      "cell_type": "markdown",
      "source": [
        "Question 4: Write a Python program that reads from one file and writes its content to another file."
      ],
      "metadata": {
        "id": "wxhhddx13ts6"
      }
    },
    {
      "cell_type": "code",
      "source": [
        "# Program to copy content from one file to another\n",
        "\n",
        "try:\n",
        "    # Open the source file in read mode\n",
        "    with open(\"source.txt\", \"r\") as src:\n",
        "        content = src.read()\n",
        "\n",
        "    # Open the destination file in write mode\n",
        "    with open(\"destination.txt\", \"w\") as dest:\n",
        "        dest.write(content)\n",
        "\n",
        "    print(\"File copied successfully!\")\n",
        "\n",
        "except FileNotFoundError:\n",
        "    print(\"Source file not found.\")\n",
        "\n"
      ],
      "metadata": {
        "colab": {
          "base_uri": "https://localhost:8080/"
        },
        "id": "TEut42LN4Dv9",
        "outputId": "41985d21-cf0f-4c53-8473-26336a5b4c2c"
      },
      "execution_count": 4,
      "outputs": [
        {
          "output_type": "stream",
          "name": "stdout",
          "text": [
            "Source file not found.\n"
          ]
        }
      ]
    },
    {
      "cell_type": "markdown",
      "source": [
        "Question 5: Write a program that handles both IndexError and KeyError using a try-except block."
      ],
      "metadata": {
        "id": "ZNUf18fH4C8p"
      }
    },
    {
      "cell_type": "code",
      "source": [
        "my_list = [10, 20, 30]\n",
        "my_dict = {\"name\": \"Shivansh\", \"age\": 22}\n",
        "\n",
        "try:\n",
        "    print(my_list[5])       # May raise IndexError\n",
        "    print(my_dict[\"email\"]) # May raise KeyError\n",
        "except IndexError:\n",
        "    print(\"IndexError: List index out of range.\")\n",
        "except KeyError:\n",
        "    print(\"KeyError: The specified key does not exist in the dictionary.\")\n"
      ],
      "metadata": {
        "colab": {
          "base_uri": "https://localhost:8080/"
        },
        "id": "3jlf2JFK4xVm",
        "outputId": "3b4933c2-507f-49fe-f37f-ba5659c07678"
      },
      "execution_count": 5,
      "outputs": [
        {
          "output_type": "stream",
          "name": "stdout",
          "text": [
            "IndexError: List index out of range.\n"
          ]
        }
      ]
    },
    {
      "cell_type": "markdown",
      "source": [
        "Question 6: What are the differences between NumPy arrays and Python lists?"
      ],
      "metadata": {
        "id": "9NxUoIET41km"
      }
    },
    {
      "cell_type": "markdown",
      "source": [
        "Answer:\n",
        "\n",
        "Feature\tNumPy Array\tPython List\n",
        "Storage\tHomogeneous data types\tCan store mixed data types\n",
        "Performance\tFaster (C-based)\tSlower\n",
        "Memory\tUses less memory\tUses more memory\n",
        "Operations\tSupports vectorized operations\tRequires loops\n",
        "Functions\tOffers mathematical operations\tLimited built-in math support\n",
        "\n",
        "✅ NumPy arrays are preferred for numerical computations."
      ],
      "metadata": {
        "id": "pylaWPtB468X"
      }
    },
    {
      "cell_type": "markdown",
      "source": [
        "Question 7: Explain the difference between apply() and map() in Pandas."
      ],
      "metadata": {
        "id": "R-bb37sO4_97"
      }
    },
    {
      "cell_type": "markdown",
      "source": [
        "Answer:\n",
        "\n",
        "- apply(): Used to apply a function along an axis of the DataFrame (rows or columns). It is flexible and can handle complex custom functions.\n",
        "\n",
        "- map(): Used mainly for transforming or mapping values in a Series. It works element-wise and is slightly faster for simple operations."
      ],
      "metadata": {
        "id": "0BszHlv25GqQ"
      }
    },
    {
      "cell_type": "markdown",
      "source": [
        "Question 8: Create a histogram using Seaborn to visualize a distribution."
      ],
      "metadata": {
        "id": "w1wypxr25L_-"
      }
    },
    {
      "cell_type": "code",
      "source": [
        "import seaborn as sns\n",
        "import matplotlib.pyplot as plt\n",
        "\n",
        "data = [12, 14, 16, 18, 20, 22, 22, 24, 26, 28, 30]\n",
        "sns.histplot(data, bins=5, kde=True)\n",
        "plt.title(\"Distribution Histogram\")\n",
        "plt.show()\n"
      ],
      "metadata": {
        "colab": {
          "base_uri": "https://localhost:8080/",
          "height": 452
        },
        "id": "zuFoe4PF5PSF",
        "outputId": "3aa4bc72-49c8-4a3e-8334-d6c3efb25b9a"
      },
      "execution_count": 6,
      "outputs": [
        {
          "output_type": "display_data",
          "data": {
            "text/plain": [
              "<Figure size 640x480 with 1 Axes>"
            ],
            "image/png": "[encoded data removed]"
          },
          "metadata": {}
        }
      ]
    },
    {
      "cell_type": "markdown",
      "source": [
        "Question 9: Use Pandas to load a CSV file and display its first 5 rows."
      ],
      "metadata": {
        "id": "hpXTBpGG5Q_I"
      }
    },
    {
      "cell_type": "code",
      "source": [
        "import pandas as pd\n",
        "\n",
        "# Create a sample CSV file\n",
        "data = {\n",
        "    'Name': ['Shivansh', 'Neha', 'Ravi', 'Meera', 'Karan'],\n",
        "    'Age': [22, 25, 24, 26, 23],\n",
        "    'Department': ['IT', 'HR', 'Finance', 'Marketing', 'IT'],\n",
        "    'Salary': [30000, 28000, 32000, 35000, 31000]\n",
        "}\n",
        "\n",
        "df = pd.DataFrame(data)\n",
        "df.to_csv(\"data.csv\", index=False)  # Creates the CSV file\n",
        "\n",
        "# Now load the CSV file\n",
        "df2 = pd.read_csv(\"data.csv\")\n",
        "\n",
        "print(\"First 5 rows of the dataset:\")\n",
        "print(df2.head())\n"
      ],
      "metadata": {
        "colab": {
          "base_uri": "https://localhost:8080/"
        },
        "id": "qgQSMqcd5VYH",
        "outputId": "9f120fe5-da19-4a51-da6e-38b7a35efb47"
      },
      "execution_count": 11,
      "outputs": [
        {
          "output_type": "stream",
          "name": "stdout",
          "text": [
            "First 5 rows of the dataset:\n",
            "       Name  Age Department  Salary\n",
            "0  Shivansh   22         IT   30000\n",
            "1      Neha   25         HR   28000\n",
            "2      Ravi   24    Finance   32000\n",
            "3     Meera   26  Marketing   35000\n",
            "4     Karan   23         IT   31000\n"
          ]
        }
      ]
    },
    {
      "cell_type": "markdown",
      "source": [
        "Question 10: Calculate the correlation matrix using Seaborn and visualize it with a heatmap."
      ],
      "metadata": {
        "id": "4R19PwaC5aVl"
      }
    },
    {
      "cell_type": "code",
      "source": [
        "import pandas as pd\n",
        "import seaborn as sns\n",
        "import matplotlib.pyplot as plt\n",
        "\n",
        "# Sample dataset\n",
        "data = {\n",
        "    'Age': [22, 25, 30, 35, 40],\n",
        "    'Height': [160, 170, 175, 180, 185],\n",
        "    'Weight': [55, 65, 70, 75, 80],\n",
        "    'Salary': [25000, 30000, 40000, 50000, 60000]\n",
        "}\n",
        "\n",
        "# Create DataFrame\n",
        "df = pd.DataFrame(data)\n",
        "\n",
        "# Calculate correlation matrix\n",
        "corr_matrix = df.corr()\n",
        "\n",
        "print(\"Correlation Matrix:\")\n",
        "print(corr_matrix)\n",
        "\n",
        "# Plot heatmap using Seaborn\n",
        "sns.heatmap(corr_matrix, annot=True, cmap=\"coolwarm\")\n",
        "plt.title(\"Correlation Matrix Heatmap\")\n",
        "plt.show()\n"
      ],
      "metadata": {
        "colab": {
          "base_uri": "https://localhost:8080/",
          "height": 556
        },
        "id": "cBv7w1Cr5f6t",
        "outputId": "a943e6d0-bb33-4d38-9231-1e5e2d0c5492"
      },
      "execution_count": 9,
      "outputs": [
        {
          "output_type": "stream",
          "name": "stdout",
          "text": [
            "Correlation Matrix:\n",
            "             Age    Height    Weight    Salary\n",
            "Age     1.000000  0.968444  0.968444  0.999714\n",
            "Height  0.968444  1.000000  1.000000  0.962206\n",
            "Weight  0.968444  1.000000  1.000000  0.962206\n",
            "Salary  0.999714  0.962206  0.962206  1.000000\n"
          ]
        },
        {
          "output_type": "display_data",
          "data": {
            "text/plain": [
              "<Figure size 640x480 with 2 Axes>"
            ],
            "image/png": "[encoded data removed]"
          },
          "metadata": {}
        }
      ]
    },
    {
      "cell_type": "code",
      "source": [],
      "metadata": {
        "id": "WcXDoMX85hdI"
      },
      "execution_count": null,
      "outputs": []
    }
  ]
}